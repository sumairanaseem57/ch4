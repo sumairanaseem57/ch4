{
 "cells": [
  {
   "cell_type": "markdown",
   "id": "5bd4f77c",
   "metadata": {},
   "source": [
    "## CHAPTER 05"
   ]
  },
  {
   "cell_type": "markdown",
   "id": "d8dffe8f",
   "metadata": {},
   "source": [
    "## Example1"
   ]
  },
  {
   "cell_type": "code",
   "execution_count": 4,
   "id": "f5cee788",
   "metadata": {},
   "outputs": [
    {
     "name": "stdout",
     "output_type": "stream",
     "text": [
      "5\n",
      "4\n",
      "3\n",
      "2\n",
      "1\n",
      "Blastoff!\n",
      "0\n"
     ]
    }
   ],
   "source": [
    "n = 5\n",
    "while n > 0 :\n",
    "    print(n)\n",
    "    n = n-1\n",
    "print('Blastoff!')\n",
    "print(n)"
   ]
  },
  {
   "cell_type": "code",
   "execution_count": 5,
   "id": "b56dd8a5",
   "metadata": {},
   "outputs": [
    {
     "name": "stdout",
     "output_type": "stream",
     "text": [
      "> >\n",
      ">\n",
      "> done\n",
      "Done!\n"
     ]
    }
   ],
   "source": [
    "while True:\n",
    "    line = input('> ')\n",
    "    if line == 'done' :\n",
    "        break\n",
    "    print(line)\n",
    "print('Done!')"
   ]
  },
  {
   "cell_type": "code",
   "execution_count": 6,
   "id": "7f13f832",
   "metadata": {},
   "outputs": [
    {
     "name": "stdout",
     "output_type": "stream",
     "text": [
      "> #\n",
      "> done\n",
      "Done!\n"
     ]
    }
   ],
   "source": [
    "while True:\n",
    "    line = input('> ')\n",
    "    if line[0] == '#' :\n",
    "        continue\n",
    "    if line == 'done' :\n",
    "        break\n",
    "    print(line)\n",
    "print('Done!')"
   ]
  },
  {
   "cell_type": "code",
   "execution_count": 7,
   "id": "3e7dbdab",
   "metadata": {},
   "outputs": [
    {
     "name": "stdout",
     "output_type": "stream",
     "text": [
      "5\n",
      "4\n",
      "3\n",
      "2\n",
      "1\n",
      "Blastoff!\n"
     ]
    }
   ],
   "source": [
    "for i in [5, 4, 3, 2, 1] :\n",
    "    print(i)\n",
    "print('Blastoff!')"
   ]
  },
  {
   "cell_type": "code",
   "execution_count": 8,
   "id": "d85c9f6d",
   "metadata": {},
   "outputs": [
    {
     "name": "stdout",
     "output_type": "stream",
     "text": [
      "Before\n",
      "9\n",
      "41\n",
      "12\n",
      "3\n",
      "74\n",
      "15\n",
      "After\n"
     ]
    }
   ],
   "source": [
    "print('Before')\n",
    "for thing in [9, 41, 12, 3, 74, 15] :\n",
    "    print(thing)\n",
    "print('After')"
   ]
  },
  {
   "cell_type": "code",
   "execution_count": 9,
   "id": "24ff11f7",
   "metadata": {},
   "outputs": [
    {
     "name": "stdout",
     "output_type": "stream",
     "text": [
      "Before 0\n",
      "9 9\n",
      "50 41\n",
      "62 12\n",
      "65 3\n",
      "139 74\n",
      "154 15\n",
      "After 154\n"
     ]
    }
   ],
   "source": [
    "zork = 0\n",
    "print('Before', zork)\n",
    "for thing in [9, 41, 12, 3, 74, 15] :\n",
    "    zork = zork + thing\n",
    "    print(zork, thing)\n",
    "print('After', zork)"
   ]
  },
  {
   "cell_type": "code",
   "execution_count": null,
   "id": "c4298cbb",
   "metadata": {},
   "outputs": [],
   "source": []
  }
 ],
 "metadata": {
  "kernelspec": {
   "display_name": "Python 3 (ipykernel)",
   "language": "python",
   "name": "python3"
  },
  "language_info": {
   "codemirror_mode": {
    "name": "ipython",
    "version": 3
   },
   "file_extension": ".py",
   "mimetype": "text/x-python",
   "name": "python",
   "nbconvert_exporter": "python",
   "pygments_lexer": "ipython3",
   "version": "3.9.13"
  }
 },
 "nbformat": 4,
 "nbformat_minor": 5
}
